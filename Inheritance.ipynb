{
 "cells": [
  {
   "cell_type": "code",
   "execution_count": 1,
   "metadata": {},
   "outputs": [],
   "source": [
    "class A:\n",
    "    pass\n",
    "class B(A):\n",
    "    pass\n",
    "class C(B):\n",
    "    pass\n",
    "obj=C()"
   ]
  },
  {
   "cell_type": "code",
   "execution_count": 4,
   "metadata": {},
   "outputs": [
    {
     "name": "stdout",
     "output_type": "stream",
     "text": [
      "THIS is class C\n",
      "THIS is class B\n",
      "THIS is class A\n"
     ]
    }
   ],
   "source": [
    "class A:\n",
    "    def a(self):\n",
    "        print(\"THIS is class A\")\n",
    "class B(A):\n",
    "    def b(self):\n",
    "        print(\"THIS is class B\")\n",
    "class C(B):\n",
    "    def c(self):\n",
    "        print(\"THIS is class C\")\n",
    "obj=C()\n",
    "obj.c()\n",
    "obj.b()\n",
    "obj.a()"
   ]
  },
  {
   "cell_type": "code",
   "execution_count": 14,
   "metadata": {},
   "outputs": [
    {
     "name": "stdout",
     "output_type": "stream",
     "text": [
      "Hello my name is Bharat. I am CEO of the company\n"
     ]
    }
   ],
   "source": [
    "class Info:\n",
    "    def __init__(self,name):\n",
    "        self.name=name\n",
    "    \n",
    "class Hr (Info):\n",
    "    def __init__(self,position):\n",
    "        self.position=position\n",
    "        \n",
    "class Office(Hr):\n",
    "    \n",
    "    def __init__(self,name,position):\n",
    "        Hr.__init__(self,position)\n",
    "        Info.__init__(self,name)\n",
    "    \n",
    "    def office(self):\n",
    "        print(f\"Hello my name is {self.name}. I am {self.position} of the company\")\n",
    "    \n",
    "\n",
    "obj= Office(\"Bharat\",\"CEO\")\n",
    "obj.office()"
   ]
  },
  {
   "cell_type": "code",
   "execution_count": 23,
   "metadata": {},
   "outputs": [
    {
     "name": "stdout",
     "output_type": "stream",
     "text": [
      "Hello my name is Bharat. I am CEO of the company My salary is 500000\n",
      "Bharat CEO\n"
     ]
    }
   ],
   "source": [
    "class Info:\n",
    "    def __init__(self,name):\n",
    "        self.name=name\n",
    "    \n",
    "class Hr (Info):\n",
    "    def __init__(self,position):\n",
    "        self.position=position\n",
    "    \n",
    "    def hr(self):\n",
    "        print(self.name,self.position)\n",
    "        \n",
    "class Office(Hr):\n",
    "    \n",
    "    def __init__(self,name,position,salary):\n",
    "        Hr.__init__(self,position)\n",
    "        Info.__init__(self,name)\n",
    "        self.salary= salary\n",
    "            \n",
    "    def office(self):\n",
    "          print(f\"Hello my name is {self.name}. I am {self.position} of the company My salary is {self.salary}\")\n",
    "    \n",
    "\n",
    "obj= Office(\"Bharat\",\"CEO\",500000)\n",
    "obj.office()\n",
    "obj.hr()"
   ]
  },
  {
   "cell_type": "code",
   "execution_count": 30,
   "metadata": {},
   "outputs": [
    {
     "name": "stdout",
     "output_type": "stream",
     "text": [
      "Hello my name is Bharat. I am CEO of the company My salary is 50000\n",
      "Bharat CEO 50000\n"
     ]
    }
   ],
   "source": [
    "class Info():\n",
    "    def __init__(self,name,position):\n",
    "        self.name=name\n",
    "        self.position=position\n",
    "class Hr (Info):\n",
    "    def hr(self):\n",
    "        print(self.name,self.position)\n",
    "        \n",
    "class Office(Hr):\n",
    "    \n",
    "    def __init__(self,name,position,salary):\n",
    "        \n",
    "        Info.__init__(self,name,position)\n",
    "        self.salary=salary\n",
    "    def office(self):\n",
    "        print(f\"Hello my name is {self.name}. I am {self.position} of the company My salary is {self.salary}\")\n",
    "    \n",
    "\n",
    "obj= Office(\"Bharat\",\"CEO\",50000)\n",
    "obj.office()\n",
    "obj.hr()"
   ]
  },
  {
   "cell_type": "code",
   "execution_count": null,
   "metadata": {},
   "outputs": [],
   "source": [
    "class Info:\n",
    "    def __init__(self,name,age):\n",
    "        self.name=name\n",
    "        self.age=age"
   ]
  }
 ],
 "metadata": {
  "kernelspec": {
   "display_name": "Python 3",
   "language": "python",
   "name": "python3"
  },
  "language_info": {
   "codemirror_mode": {
    "name": "ipython",
    "version": 3
   },
   "file_extension": ".py",
   "mimetype": "text/x-python",
   "name": "python",
   "nbconvert_exporter": "python",
   "pygments_lexer": "ipython3",
   "version": "3.8.5"
  }
 },
 "nbformat": 4,
 "nbformat_minor": 4
}
