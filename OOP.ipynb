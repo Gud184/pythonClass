{
 "cells": [
  {
   "cell_type": "code",
   "execution_count": 2,
   "metadata": {},
   "outputs": [
    {
     "name": "stdout",
     "output_type": "stream",
     "text": [
      "Hello world\n"
     ]
    }
   ],
   "source": [
    "class Hello:\n",
    "    print(\"Hello world\")\n",
    "obj =Hello()"
   ]
  },
  {
   "cell_type": "code",
   "execution_count": 5,
   "metadata": {},
   "outputs": [
    {
     "name": "stdout",
     "output_type": "stream",
     "text": [
      "200\n"
     ]
    }
   ],
   "source": [
    "class Area:\n",
    "    def area(self,l,b):\n",
    "        a=l*b\n",
    "        print(a)\n",
    "obj=Area()\n",
    "obj.area(10,20)"
   ]
  },
  {
   "cell_type": "code",
   "execution_count": 21,
   "metadata": {},
   "outputs": [
    {
     "name": "stdout",
     "output_type": "stream",
     "text": [
      "200\n",
      "280\n"
     ]
    }
   ],
   "source": [
    "class Cal:\n",
    "    def area(self,l,b):\n",
    "        a=l*b\n",
    "        print(a)\n",
    "    def volume(self,l,b,h):\n",
    "        v=l*b*h\n",
    "        print(v)\n",
    "    \n",
    "obj=Cal()\n",
    "obj.area(10,20)\n",
    "obj.volume(20,7,2)"
   ]
  },
  {
   "cell_type": "code",
   "execution_count": 19,
   "metadata": {},
   "outputs": [
    {
     "name": "stdout",
     "output_type": "stream",
     "text": [
      "200\n",
      "Volume 280\n",
      "perimeter 24\n"
     ]
    }
   ],
   "source": [
    "class Cal:\n",
    "    def area(self,l,b):\n",
    "        a=l*b\n",
    "        print(a)\n",
    "    def volume(self,l,b,h):\n",
    "        v=l*b*h\n",
    "        print(\"Volume\",v)\n",
    "    def perimeter(self,l,b):\n",
    "        p=2*(l+b)\n",
    "        print(\"perimeter\",p)\n",
    "    \n",
    "obj=Cal()\n",
    "obj.area(10,20)\n",
    "obj.volume(20,7,2)\n",
    "obj.perimeter(4,8)"
   ]
  },
  {
   "cell_type": "code",
   "execution_count": 25,
   "metadata": {},
   "outputs": [
    {
     "name": "stdout",
     "output_type": "stream",
     "text": [
      "20\n",
      "80\n"
     ]
    }
   ],
   "source": [
    "class Cal:\n",
    "    def __init__(self,l,b,h):\n",
    "        self.l=l\n",
    "        self.b=b\n",
    "        self.h=h\n",
    "        \n",
    "    def area(self):\n",
    "        a=self.l*self.b\n",
    "        print(a)\n",
    "    def volume(self):\n",
    "        v=self.l*self.b*self.h\n",
    "        print(v)\n",
    "    \n",
    "obj= Cal(10,2,4)\n",
    "obj.area()\n",
    "obj.volume()"
   ]
  },
  {
   "cell_type": "code",
   "execution_count": 26,
   "metadata": {},
   "outputs": [
    {
     "name": "stdout",
     "output_type": "stream",
     "text": [
      "Enter l=10\n",
      "Enter b=2\n",
      "Enter h=4\n",
      "20\n",
      "80\n"
     ]
    }
   ],
   "source": [
    "class Cal:\n",
    "    def __init__(self):\n",
    "        self.l=int(input(\"Enter l=\"))\n",
    "        self.b=int(input(\"Enter b=\"))\n",
    "        self.h=int(input(\"Enter h=\"))\n",
    "        \n",
    "    def area(self):\n",
    "        a=self.l*self.b\n",
    "        print(a)\n",
    "    def volume(self):\n",
    "        v=self.l*self.b*self.h\n",
    "        print(v)\n",
    "    \n",
    "obj= Cal()\n",
    "obj.area()\n",
    "obj.volume()"
   ]
  },
  {
   "cell_type": "code",
   "execution_count": 28,
   "metadata": {},
   "outputs": [
    {
     "name": "stdout",
     "output_type": "stream",
     "text": [
      "Enter l=2\n",
      "Enter b=5\n",
      "Enter h=10\n",
      "10\n",
      "100\n"
     ]
    }
   ],
   "source": [
    "class Cal:\n",
    "    def __init__(self,l,b):\n",
    "        self.l=l\n",
    "        self.b=b\n",
    "    \n",
    "        \n",
    "    def area(self):\n",
    "        a=self.l*self.b\n",
    "        print(a)\n",
    "    def volume(self,h):\n",
    "        v=self.l*self.b*h\n",
    "        print(v)\n",
    "\n",
    "l=int(input(\"Enter l=\"))\n",
    "b=int(input(\"Enter b=\"))     \n",
    "h=int(input(\"Enter h=\"))\n",
    "       \n",
    "obj= Cal(l,b)\n",
    "obj.area()\n",
    "obj.volume(h)"
   ]
  },
  {
   "cell_type": "code",
   "execution_count": 1,
   "metadata": {},
   "outputs": [
    {
     "name": "stdout",
     "output_type": "stream",
     "text": [
      "Ram\n"
     ]
    }
   ],
   "source": [
    "class Info:\n",
    "    def __init__(self,name,age,add,phone):\n",
    "        self.name = name\n",
    "        self.age= age\n",
    "        self.add = add\n",
    "        self.phone=phone\n",
    "        \n",
    "    def __str__(self):\n",
    "        return self.name\n",
    "\n",
    "obj = Info(\"Ram\",'20',\"Kathmandu\",'9874585522')\n",
    "print(obj)"
   ]
  },
  {
   "cell_type": "code",
   "execution_count": 3,
   "metadata": {},
   "outputs": [
    {
     "name": "stdout",
     "output_type": "stream",
     "text": [
      "(Ram , 20)\n",
      "(Ram , 20)\n",
      "(Ram , 20)\n"
     ]
    }
   ],
   "source": [
    "class Info:\n",
    "    def __init__(self,name,age,add,phone):\n",
    "        self.name = name\n",
    "        self.age= age\n",
    "        self.add = add\n",
    "        self.phone=phone\n",
    "        \n",
    "    def __str__(self):\n",
    "        return f\"({self.name} , {self.age})\"\n",
    "\n",
    "obj = Info(\"Ram\",'20',\"Kathmandu\",'9874585522')\n",
    "print(obj)\n",
    "print(obj.__str__())\n",
    "print(str(obj))"
   ]
  },
  {
   "cell_type": "code",
   "execution_count": 4,
   "metadata": {},
   "outputs": [
    {
     "name": "stdout",
     "output_type": "stream",
     "text": [
      "('Ram', '20')\n"
     ]
    }
   ],
   "source": [
    "class Info:\n",
    "    def __init__(self,name,age,add,phone):\n",
    "        self.name = name\n",
    "        self.age= age\n",
    "        self.add = add\n",
    "        self.phone=phone\n",
    "        \n",
    "    def __repr__(self):\n",
    "        return (self.name , self.age)\n",
    "\n",
    "obj = Info(\"Ram\",'20',\"Kathmandu\",'9874585522')\n",
    "print(obj.__repr__())\n"
   ]
  },
  {
   "cell_type": "code",
   "execution_count": 6,
   "metadata": {},
   "outputs": [
    {
     "name": "stdout",
     "output_type": "stream",
     "text": [
      "('You', '28')\n"
     ]
    }
   ],
   "source": [
    "class Info:\n",
    "    def __init__(self,name,age,add,phone):\n",
    "        self.name = name\n",
    "        self.age= age\n",
    "        self.add = add\n",
    "        self.phone=phone\n",
    "        \n",
    "    def __repr__(self):\n",
    "        return (self.name , self.age)\n",
    "\n",
    "obj = Info(\"Ram\",'20',\"Kathmandu\",'9874585522')\n",
    "obj1 = Info(\"You\",'28',\"Kathmandu\",'9874585522')\n",
    "print(obj1.__repr__())"
   ]
  },
  {
   "cell_type": "code",
   "execution_count": 10,
   "metadata": {},
   "outputs": [
    {
     "name": "stdout",
     "output_type": "stream",
     "text": [
      "('You', '28')\n"
     ]
    },
    {
     "data": {
      "text/plain": [
       "('Ram', '20')"
      ]
     },
     "execution_count": 10,
     "metadata": {},
     "output_type": "execute_result"
    }
   ],
   "source": [
    "class Info:\n",
    "    def __init__(self,name,age,add,phone):\n",
    "        self.name = name\n",
    "        self.age= age\n",
    "        self.add = add\n",
    "        self.phone=phone\n",
    "        \n",
    "    def __repr__(self):\n",
    "        return (self.name , self.age)\n",
    "    def infos(self):\n",
    "        return(self.name,self.age)\n",
    "    \n",
    "obj = Info(\"Ram\",'20',\"Kathmandu\",'9874585522')\n",
    "#obj1 = Info(\"You\",'28',\"Kathmandu\",'9874585522')\n",
    "print(obj1.__repr__())\n",
    "obj.infos()"
   ]
  },
  {
   "cell_type": "code",
   "execution_count": 13,
   "metadata": {},
   "outputs": [
    {
     "ename": "TypeError",
     "evalue": "unsupported operand type(s) for +: 'Info' and 'Info'",
     "output_type": "error",
     "traceback": [
      "\u001b[1;31m---------------------------------------------------------------------------\u001b[0m",
      "\u001b[1;31mTypeError\u001b[0m                                 Traceback (most recent call last)",
      "\u001b[1;32m<ipython-input-13-6dc3609f8899>\u001b[0m in \u001b[0;36m<module>\u001b[1;34m\u001b[0m\n\u001b[0;32m      9\u001b[0m \u001b[0mobj\u001b[0m \u001b[1;33m=\u001b[0m \u001b[0mInfo\u001b[0m\u001b[1;33m(\u001b[0m\u001b[1;34m\"Ram\"\u001b[0m\u001b[1;33m)\u001b[0m\u001b[1;33m\u001b[0m\u001b[1;33m\u001b[0m\u001b[0m\n\u001b[0;32m     10\u001b[0m \u001b[0mobj1\u001b[0m \u001b[1;33m=\u001b[0m \u001b[0mInfo\u001b[0m\u001b[1;33m(\u001b[0m\u001b[1;34m\"you\"\u001b[0m\u001b[1;33m)\u001b[0m\u001b[1;33m\u001b[0m\u001b[1;33m\u001b[0m\u001b[0m\n\u001b[1;32m---> 11\u001b[1;33m \u001b[0mprint\u001b[0m\u001b[1;33m(\u001b[0m\u001b[0mobj\u001b[0m\u001b[1;33m+\u001b[0m\u001b[0mobj1\u001b[0m\u001b[1;33m)\u001b[0m\u001b[1;33m\u001b[0m\u001b[1;33m\u001b[0m\u001b[0m\n\u001b[0m",
      "\u001b[1;31mTypeError\u001b[0m: unsupported operand type(s) for +: 'Info' and 'Info'"
     ]
    }
   ],
   "source": [
    "#Operator Overloading\n",
    "class Info():\n",
    "    def __init__(self, x=0,y=0):\n",
    "        self.x=0\n",
    "        self.y=0\n",
    "        \n",
    "    def __str__(self):\n",
    "        return f\"(self.name\n",
    "    \n",
    "obj = Info(\"Ram\")\n",
    "obj1 = Info(\"you\")\n",
    "print(obj+obj1)"
   ]
  },
  {
   "cell_type": "code",
   "execution_count": null,
   "metadata": {},
   "outputs": [],
   "source": []
  }
 ],
 "metadata": {
  "kernelspec": {
   "display_name": "Python 3",
   "language": "python",
   "name": "python3"
  },
  "language_info": {
   "codemirror_mode": {
    "name": "ipython",
    "version": 3
   },
   "file_extension": ".py",
   "mimetype": "text/x-python",
   "name": "python",
   "nbconvert_exporter": "python",
   "pygments_lexer": "ipython3",
   "version": "3.8.5"
  }
 },
 "nbformat": 4,
 "nbformat_minor": 4
}
