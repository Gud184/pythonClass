{
 "cells": [
  {
   "cell_type": "code",
   "execution_count": 1,
   "metadata": {},
   "outputs": [
    {
     "name": "stdout",
     "output_type": "stream",
     "text": [
      "enter the total number = 2\n",
      "Enter the name of Student = ram\n",
      "Enter the Marks = 78\n",
      "Enter the Marks = 98\n",
      "Enter the Marks = 75\n",
      "Enter the Marks = 45\n",
      "{'ram': {'Physics': 78, 'Chemistry': 98, 'Maths': 75, 'English': 45, 'Total': 296, 'Percentage': 74.0}}\n",
      "Enter the name of Student = shyam\n",
      "Enter the Marks = 89\n",
      "Enter the Marks = 76\n",
      "Enter the Marks = 98\n",
      "Enter the Marks = 56\n",
      "{'ram': {'Physics': 78, 'Chemistry': 98, 'Maths': 75, 'English': 45, 'Total': 296, 'Percentage': 74.0}, 'shyam': {'Physics': 89, 'Chemistry': 76, 'Maths': 98, 'English': 56, 'Total': 319, 'Percentage': 79.75}}\n"
     ]
    }
   ],
   "source": [
    "#Student result\n",
    "Class={}\n",
    "Subjects={}\n",
    "n=int(input(\"enter the total number = \"))\n",
    "for i in range(n):\n",
    "    Name=input(\"Enter the name of Student = \")\n",
    "    #faculty=(Science,Management)\n",
    "    physics=int(input(\"Enter the Marks = \"))\n",
    "    chemistry=int(input(\"Enter the Marks = \"))\n",
    "    maths=int(input(\"Enter the Marks = \"))\n",
    "    english=int(input(\"Enter the Marks = \"))\n",
    "    total = physics+chemistry+maths+english\n",
    "    per = total/4\n",
    "    Class[Name] = {\"Physics\":physics,\"Chemistry\":chemistry,\"Maths\":maths,\"English\":english,\"Total\":total,\"Percentage\":per}\n",
    "    print(Class)"
   ]
  },
  {
   "cell_type": "code",
   "execution_count": 3,
   "metadata": {},
   "outputs": [
    {
     "name": "stdout",
     "output_type": "stream",
     "text": [
      "('ram', {'Physics': 78, 'Chemistry': 98, 'Maths': 75, 'English': 45, 'Total': 296, 'Percentage': 74.0})\n",
      "('shyam', {'Physics': 89, 'Chemistry': 76, 'Maths': 98, 'English': 56, 'Total': 319, 'Percentage': 79.75})\n"
     ]
    }
   ],
   "source": [
    "a={'ram': {'Physics': 78, 'Chemistry': 98, 'Maths': 75, 'English': 45, 'Total': 296, 'Percentage': 74.0}, 'shyam': {'Physics': 89, 'Chemistry': 76, 'Maths': 98, 'English': 56, 'Total': 319, 'Percentage': 79.75}}\n",
    "for i in a.items():\n",
    "    print(i)"
   ]
  },
  {
   "cell_type": "code",
   "execution_count": 9,
   "metadata": {},
   "outputs": [
    {
     "name": "stdout",
     "output_type": "stream",
     "text": [
      "Failed\n"
     ]
    }
   ],
   "source": [
    "for i in range(2):\n",
    "    if 'per'in [i>75]:\n",
    "        print(\"Passed\")\n",
    "else:\n",
    "    print(\"Failed\")"
   ]
  },
  {
   "cell_type": "code",
   "execution_count": 44,
   "metadata": {},
   "outputs": [
    {
     "data": {
      "text/plain": [
       "98"
      ]
     },
     "execution_count": 44,
     "metadata": {},
     "output_type": "execute_result"
    }
   ],
   "source": [
    "a['shyam']['Chemistry']\n"
   ]
  },
  {
   "cell_type": "code",
   "execution_count": 15,
   "metadata": {},
   "outputs": [
    {
     "ename": "SyntaxError",
     "evalue": "invalid syntax (<ipython-input-15-525321742853>, line 2)",
     "output_type": "error",
     "traceback": [
      "\u001b[1;36m  File \u001b[1;32m\"<ipython-input-15-525321742853>\"\u001b[1;36m, line \u001b[1;32m2\u001b[0m\n\u001b[1;33m    a.update(b)\u001b[0m\n\u001b[1;37m    ^\u001b[0m\n\u001b[1;31mSyntaxError\u001b[0m\u001b[1;31m:\u001b[0m invalid syntax\n"
     ]
    }
   ],
   "source": [
    "#b = {{'Physics': 98, 'Chemistry': 68, 'Maths': 73, 'English': 86}\n",
    " #a.update(b)\n",
    "#print(a)"
   ]
  },
  {
   "cell_type": "code",
   "execution_count": 43,
   "metadata": {},
   "outputs": [
    {
     "name": "stdout",
     "output_type": "stream",
     "text": [
      "{'ram': {'Physics': 78, 'Chemistry': 98, 'Maths': 75, 'English': 45, 'Total': 296, 'Percentage': 74.0}, 'shyam': {'Physics': 89, 'Chemistry': 98, 'Maths': 98, 'English': 56, 'Total': 319, 'Percentage': 79.75}}\n"
     ]
    }
   ],
   "source": [
    "a=Class\n",
    "a['shyam']['Chemistry']=98\n",
    "#print\n",
    "print(Class)\n"
   ]
  },
  {
   "cell_type": "code",
   "execution_count": 33,
   "metadata": {},
   "outputs": [
    {
     "name": "stdout",
     "output_type": "stream",
     "text": [
      "{'shyam': {'Physics': 89, 'Chemistry': 76, 'Maths': 98, 'English': 56, 'Total': 319, 'Percentage': 79.75}}\n"
     ]
    }
   ],
   "source": [
    "del a['ram']\n",
    "print(a)"
   ]
  },
  {
   "cell_type": "code",
   "execution_count": null,
   "metadata": {},
   "outputs": [],
   "source": []
  }
 ],
 "metadata": {
  "kernelspec": {
   "display_name": "Python 3",
   "language": "python",
   "name": "python3"
  },
  "language_info": {
   "codemirror_mode": {
    "name": "ipython",
    "version": 3
   },
   "file_extension": ".py",
   "mimetype": "text/x-python",
   "name": "python",
   "nbconvert_exporter": "python",
   "pygments_lexer": "ipython3",
   "version": "3.8.5"
  }
 },
 "nbformat": 4,
 "nbformat_minor": 4
}
