{
 "cells": [
  {
   "cell_type": "code",
   "execution_count": null,
   "metadata": {},
   "outputs": [],
   "source": [
    "def cal():\n",
    "    try:\n",
    "        a=int(input(\"Enter the value = \"))\n",
    "        b=int(input(\"Enter the value = \"))\n",
    "        c=a/b\n",
    "        print(c)\n",
    "    except:\n",
    "    except ValueError:\n",
    "        print(\"The value of a and b should be number....\")\n",
    "        cal()\n",
    "    except ZeroDivisionError:\n",
    "        print(\"The value of b canot be zero....\")\n",
    "        cal()\n",
    "cal()"
   ]
  },
  {
   "cell_type": "code",
   "execution_count": null,
   "metadata": {},
   "outputs": [],
   "source": [
    "def cal():\n",
    "    try:\n",
    "        a=int(input(\"Enter the value = \"))\n",
    "        b=int(input(\"Enter the value = \"))\n",
    "        c=a/b\n",
    "        print(c)\n",
    "    #except:\n",
    "    except ValueError:\n",
    "        print(\"The value of a and b should be number....\")\n",
    "        cal()\n",
    "    except ZeroDivisionError:\n",
    "        print(\"The value of b canot be zero....\")\n",
    "        cal()\n",
    "    except TypeError:\n",
    "        print(\"Typing mistake....\")\n",
    "        cal()\n",
    "cal()"
   ]
  },
  {
   "cell_type": "code",
   "execution_count": null,
   "metadata": {},
   "outputs": [],
   "source": [
    "try:\n",
    "    l=int(input(\"Enter the length = \"))\n",
    "    b=int(input(\"Enter the breadth = \"))\n",
    "    c=l*b\n",
    "except ValueError:\n",
    "        print(\"The value of a and b should be number....\")\n",
    "else:\n",
    "    h=10\n",
    "    v=c*h\n",
    "    print(v)\n",
    "    "
   ]
  },
  {
   "cell_type": "code",
   "execution_count": null,
   "metadata": {},
   "outputs": [],
   "source": [
    "def terminate():\n",
    "    print(\"you attempt is terminated....\")\n",
    "d=0\n",
    "def count():\n",
    "    global d\n",
    "    try:\n",
    "        l=int(input(\"Enter the length = \"))\n",
    "        b=int(input(\"Enter the breadth = \"))\n",
    "        c=l*b\n",
    "    except ValueError:\n",
    "        print(\"The value of a and b should be number....\")\n",
    "        d=d+1\n",
    "        if d<3:\n",
    "            count()\n",
    "        else:\n",
    "            terminate()\n",
    "    else:\n",
    "        h=10\n",
    "        v=c*h\n",
    "    print(v)\n",
    "count()\n",
    "print(d)\n",
    "    "
   ]
  },
  {
   "cell_type": "code",
   "execution_count": 1,
   "metadata": {},
   "outputs": [
    {
     "name": "stdout",
     "output_type": "stream",
     "text": [
      "Enter a number: 2\n",
      "Error\n"
     ]
    }
   ],
   "source": [
    "try:\n",
    "    num=int(input('Enter a number: '))\n",
    "    assert((num == 1) and (num ==2))\n",
    "    print(num)\n",
    "except AssertionError:\n",
    "    print(\"Error\")"
   ]
  },
  {
   "cell_type": "code",
   "execution_count": null,
   "metadata": {},
   "outputs": [],
   "source": []
  }
 ],
 "metadata": {
  "kernelspec": {
   "display_name": "Python 3",
   "language": "python",
   "name": "python3"
  },
  "language_info": {
   "codemirror_mode": {
    "name": "ipython",
    "version": 3
   },
   "file_extension": ".py",
   "mimetype": "text/x-python",
   "name": "python",
   "nbconvert_exporter": "python",
   "pygments_lexer": "ipython3",
   "version": "3.8.5"
  }
 },
 "nbformat": 4,
 "nbformat_minor": 4
}
