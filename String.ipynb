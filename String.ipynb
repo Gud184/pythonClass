{
 "cells": [
  {
   "cell_type": "code",
   "execution_count": null,
   "metadata": {},
   "outputs": [],
   "source": [
    "a=\"hello world\\n\"\n",
    "print(a*3)"
   ]
  },
  {
   "cell_type": "code",
   "execution_count": null,
   "metadata": {},
   "outputs": [],
   "source": [
    "# string formatting\n",
    "name = input(\"enter the name =\")\n",
    "phone = input('Enter the  number =')\n",
    "data = f\"{name} {phone}\"\n",
    "print(data)"
   ]
  },
  {
   "cell_type": "code",
   "execution_count": null,
   "metadata": {},
   "outputs": [],
   "source": [
    "a.split\n",
    "data_array\n",
    "a.replace\n",
    "a.lower\n",
    "a.upper"
   ]
  },
  {
   "cell_type": "code",
   "execution_count": null,
   "metadata": {},
   "outputs": [],
   "source": [
    "info=\"\"\n",
    "n=int(input(\"enter the value of n =\"))\n",
    "for i in range (n):\n",
    "     Name = input(\"Enter name = \")\n",
    "    physics = int(input(\"Enter Physics = \"))\n",
    "    Chem = int(input(\"Enter Chemistry = \"))\n",
    "    Maths = int(input(\"Enter Maths = \"))\n",
    "    Eng = int(input(\"Enter English = \"))\n",
    "    Total = Phy+Chem+Matsh+Eng\n",
    "    Percentage = Total/4\n",
    "    Data = f\"{Name} {Phy} {Chem} {Maths} {Eng} {Total} {Percentage}\\n\"\n",
    "    info = info +Data\n",
    "print(info)"
   ]
  },
  {
   "cell_type": "code",
   "execution_count": 1,
   "metadata": {},
   "outputs": [
    {
     "name": "stdout",
     "output_type": "stream",
     "text": [
      "Enter the value of n =3\n",
      "Enter the name =Suraj\n",
      "enter the value =12\n",
      "Enter the value =13\n",
      "Enter the value =14\n",
      "Enter the value =15\n",
      "Enter the value =16\n",
      " Suraj 12 13 14 15 16 70 17.5\n",
      "\n",
      "Enter the name =Hari\n",
      "enter the value =20\n",
      "Enter the value =30\n",
      "Enter the value =40\n",
      "Enter the value =50\n",
      "Enter the value =60\n",
      " Suraj 12 13 14 15 16 70 17.5\n",
      " Hari 20 30 40 50 60 200 50.0\n",
      "\n",
      "Enter the name =You\n",
      "enter the value =80\n",
      "Enter the value =40\n",
      "Enter the value =60\n",
      "Enter the value =70\n",
      "Enter the value =68\n",
      " Suraj 12 13 14 15 16 70 17.5\n",
      " Hari 20 30 40 50 60 200 50.0\n",
      " You 80 40 60 70 68 318 79.5\n",
      "\n"
     ]
    }
   ],
   "source": [
    "Infos =\"\"\n",
    "n=int(input(\"Enter the value of n =\"))\n",
    "for i in range (n):\n",
    "    Name=input(\"Enter the name =\")\n",
    "    Physics=int(input(\"enter the value =\"))\n",
    "    Chemestry=int(input(\"Enter the value =\"))\n",
    "    Maths=int(input(\"Enter the value =\"))\n",
    "    Nepali=int(input(\"Enter the value =\"))\n",
    "    English=int(input(\"Enter the value =\"))\n",
    "    Total=Physics+Chemestry+Maths+Nepali+English\n",
    "    percentage=Total/4\n",
    "    Data=f\" {Name} {Physics} {Chemestry} {Maths} {Nepali} {English} {Total} {percentage}\\n\"\n",
    "    Infos = Infos +Data\n",
    "    print(Infos)\n",
    "   \n",
    "    \n",
    "   "
   ]
  },
  {
   "cell_type": "code",
   "execution_count": 2,
   "metadata": {},
   "outputs": [
    {
     "name": "stdout",
     "output_type": "stream",
     "text": [
      " Suraj 12 13 14 15 16 70 17.5\n",
      " Hari 20 30 40 50 60 200 50.0\n",
      " You 80 40 60 70 68 318 79.5\n",
      "\n"
     ]
    }
   ],
   "source": [
    "print(Infos)\n"
   ]
  },
  {
   "cell_type": "code",
   "execution_count": 10,
   "metadata": {},
   "outputs": [
    {
     "name": "stdout",
     "output_type": "stream",
     "text": [
      "Suraj 12 13 14 15 16 70 17.5\n",
      "Hari 20 30 40 50 60 200 50.0\n",
      "You 80 40 60 70 68 318 79.5\n"
     ]
    }
   ],
   "source": [
    " a= \"Suraj 12 13 14 15 16 70 17.5\\nHari 20 30 40 50 60 200 50.0\\nYou 80 40 60 70 68 318 79.5\"\n",
    "print(a)"
   ]
  },
  {
   "cell_type": "code",
   "execution_count": 25,
   "metadata": {},
   "outputs": [
    {
     "data": {
      "text/plain": [
       "['You']"
      ]
     },
     "execution_count": 25,
     "metadata": {},
     "output_type": "execute_result"
    }
   ],
   "source": [
    "a.split('\\n')"
   ]
  },
  {
   "cell_type": "code",
   "execution_count": 16,
   "metadata": {},
   "outputs": [],
   "source": [
    "Data_array = a.split('\\n')"
   ]
  },
  {
   "cell_type": "code",
   "execution_count": 17,
   "metadata": {},
   "outputs": [
    {
     "data": {
      "text/plain": [
       "['Suraj 12 13 14 15 16 70 17.5',\n",
       " 'Hari 20 30 40 50 60 200 50.0',\n",
       " 'You 80 40 60 70 68 318 79.5']"
      ]
     },
     "execution_count": 17,
     "metadata": {},
     "output_type": "execute_result"
    }
   ],
   "source": [
    "Data_array"
   ]
  },
  {
   "cell_type": "code",
   "execution_count": 21,
   "metadata": {},
   "outputs": [
    {
     "name": "stdout",
     "output_type": "stream",
     "text": [
      "Yes\n"
     ]
    }
   ],
   "source": [
    "if \"You\" in a:\n",
    "    print(\"Yes\")\n",
    "else:\n",
    "        print(\"NO\")"
   ]
  },
  {
   "cell_type": "code",
   "execution_count": 24,
   "metadata": {},
   "outputs": [
    {
     "name": "stdout",
     "output_type": "stream",
     "text": [
      "She\n"
     ]
    }
   ],
   "source": [
    "a=\"You\"\n",
    "b=a.replace(\"You\",\"She\")\n",
    "print(b)"
   ]
  },
  {
   "cell_type": "code",
   "execution_count": 29,
   "metadata": {},
   "outputs": [
    {
     "ename": "IndentationError",
     "evalue": "expected an indented block (<ipython-input-29-cdeb9e95f949>, line 3)",
     "output_type": "error",
     "traceback": [
      "\u001b[1;36m  File \u001b[1;32m\"<ipython-input-29-cdeb9e95f949>\"\u001b[1;36m, line \u001b[1;32m3\u001b[0m\n\u001b[1;33m    if \"You\" in  Data_array[i]:\u001b[0m\n\u001b[1;37m    ^\u001b[0m\n\u001b[1;31mIndentationError\u001b[0m\u001b[1;31m:\u001b[0m expected an indented block\n"
     ]
    }
   ],
   "source": [
    "Data_array['Suraj 12 13 14 15 16 70 17.5','Hari 20 30 40 50 60 200 50.0','You 80 40 60 70 68 318 79.5']\n",
    "for i in range(3):\n",
    "if \"You\" in  Data_array[i]:\n",
    "print(\"yes\")\n",
    "else:\n",
    "    print('No')\n",
    "    print(Data_array[i])\n"
   ]
  },
  {
   "cell_type": "code",
   "execution_count": null,
   "metadata": {},
   "outputs": [],
   "source": [
    "# wap for billing in a shop\n",
    "#inventry\n",
    "def menu():\n",
    "info=''\n",
    "Sum=0\n",
    "n= int(input(\"Enter the number of goods\"))\n",
    "for i in range(n):\n",
    "    Name=input(\"Name of goods =\")\n",
    "    Quantity=float(input(\"Enter the quantity = \"))\n",
    "    price=int(input('Enter the price ='))\n",
    "    total= price*Quantity\n",
    "    Data=f\"{Name} {Quantity} {price} {total}\\n\"\n",
    "    info=info+Data\n",
    "    Sum=Sum+total\n",
    "print(info)\n",
    "print(\"The total sum is =\",Sum)\n",
    "menu()"
   ]
  },
  {
   "cell_type": "code",
   "execution_count": null,
   "metadata": {},
   "outputs": [],
   "source": []
  },
  {
   "cell_type": "code",
   "execution_count": null,
   "metadata": {},
   "outputs": [],
   "source": []
  }
 ],
 "metadata": {
  "kernelspec": {
   "display_name": "Python 3",
   "language": "python",
   "name": "python3"
  },
  "language_info": {
   "codemirror_mode": {
    "name": "ipython",
    "version": 3
   },
   "file_extension": ".py",
   "mimetype": "text/x-python",
   "name": "python",
   "nbconvert_exporter": "python",
   "pygments_lexer": "ipython3",
   "version": "3.8.5"
  }
 },
 "nbformat": 4,
 "nbformat_minor": 4
}
