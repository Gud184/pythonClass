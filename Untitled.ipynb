{
 "cells": [
  {
   "cell_type": "code",
   "execution_count": 3,
   "metadata": {},
   "outputs": [
    {
     "name": "stdout",
     "output_type": "stream",
     "text": [
      "Enter n=3\n",
      "Enter value y =5\n",
      "Enter value y =7\n",
      "Enter value y =2\n",
      "The value of Sum is =  14\n"
     ]
    }
   ],
   "source": [
    "s=0\n",
    "n = int(input(\"Enter n=\"))\n",
    "for i in range(n):\n",
    "    y = int(input('Enter value y ='))\n",
    "    s =s+y\n",
    "    \n",
    "print(\"The value of Sum is = \",s)"
   ]
  },
  {
   "cell_type": "code",
   "execution_count": 5,
   "metadata": {},
   "outputs": [
    {
     "name": "stdout",
     "output_type": "stream",
     "text": [
      "Enter the value n =3\n",
      "Enter the name =r\n",
      "Enter the no =9844\n",
      "Enter the address =lal\n",
      "Enter the name =a\n",
      "Enter the no =4486\n",
      "Enter the address =ban\n",
      "Enter the name =m\n",
      "Enter the no =8398\n",
      "Enter the address =di\n",
      "r 9844lal\n",
      "a 4486ban\n",
      "m 8398di\n",
      "\n"
     ]
    }
   ],
   "source": [
    "info=''\n",
    "n=int(input(\"Enter the value n =\"))\n",
    "for i in range(n):\n",
    "    name=input('Enter the name =')\n",
    "    phone=int(input(\"Enter the no =\"))\n",
    "    add=input(\"Enter the address =\")\n",
    "    data=name + \" \"+str(phone) \" \" +add+ \"\\n\"\n",
    "    info=info+data\n",
    "print(info)"
   ]
  },
  {
   "cell_type": "code",
   "execution_count": 7,
   "metadata": {},
   "outputs": [
    {
     "name": "stdout",
     "output_type": "stream",
     "text": [
      "Enter the n =5\n",
      "1\n",
      "2\n",
      "6\n",
      "24\n",
      "120\n"
     ]
    }
   ],
   "source": [
    "fac=1\n",
    "n=int(input(\"Enter the n =\"))\n",
    "for i in range(1,n+1):\n",
    "    fac = fac*i\n",
    "    print(fac)\n",
    "    "
   ]
  },
  {
   "cell_type": "code",
   "execution_count": 13,
   "metadata": {},
   "outputs": [
    {
     "name": "stdout",
     "output_type": "stream",
     "text": [
      "p\n",
      "y\n",
      "t\n",
      "h\n",
      "o\n",
      "n\n"
     ]
    }
   ],
   "source": [
    "a=\"python\"\n",
    "for i in a:\n",
    "    print(i)"
   ]
  },
  {
   "cell_type": "code",
   "execution_count": 22,
   "metadata": {},
   "outputs": [
    {
     "name": "stdout",
     "output_type": "stream",
     "text": [
      "5\n",
      "4\n",
      "3\n",
      "2\n",
      "1\n"
     ]
    }
   ],
   "source": [
    "for i in range(5,0,-1):\n",
    "    print(i)"
   ]
  },
  {
   "cell_type": "code",
   "execution_count": null,
   "metadata": {},
   "outputs": [],
   "source": []
  },
  {
   "cell_type": "code",
   "execution_count": null,
   "metadata": {},
   "outputs": [],
   "source": []
  }
 ],
 "metadata": {
  "kernelspec": {
   "display_name": "Python 3",
   "language": "python",
   "name": "python3"
  },
  "language_info": {
   "codemirror_mode": {
    "name": "ipython",
    "version": 3
   },
   "file_extension": ".py",
   "mimetype": "text/x-python",
   "name": "python",
   "nbconvert_exporter": "python",
   "pygments_lexer": "ipython3",
   "version": "3.8.5"
  }
 },
 "nbformat": 4,
 "nbformat_minor": 4
}
